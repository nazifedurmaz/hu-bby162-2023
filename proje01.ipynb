{
  "cells": [
    {
      "cell_type": "markdown",
      "metadata": {
        "id": "view-in-github",
        "colab_type": "text"
      },
      "source": [
        "<a href=\"https://colab.research.google.com/github/nazifedurmaz/hu-bby162-2023/blob/main/proje01.ipynb\" target=\"_parent\"><img src=\"https://colab.research.google.com/assets/colab-badge.svg\" alt=\"Open In Colab\"/></a>"
      ]
    },
    {
      "cell_type": "code",
      "source": [
        "# market için ihtiyaç listesi \n",
        "ihtiyaçlar = [\"domates\", \"soğan\", \"kıyma\", \"patates\", \"sarımsak\"]\n",
        "print(ihtiyaçlar)\n",
        "\n",
        "# başka ihtiyaçlar\n",
        "ihtiyaçlar += [\"biber\", \"şeker\"]\n",
        "print(ihtiyaçlar)\n",
        "\n",
        "# yeni ihitiyaçları buraya gir\n",
        "başkaihtiyaçlar =input(\"ihtiyaçları buraya giriniz: \")\n",
        "ihtiyaçlar.append(başkaihtiyaçlar)\n",
        "\n",
        "# alınanları sil\n",
        "ihtiyaçlar[2:4] = []\n",
        "print(ihtiyaçlar)\n",
        "\n",
        "# hepsi alındığında listeyi sil\n",
        "ihtiyaçlar[:] = []\n",
        "print(ihtiyaçlar)"
      ],
      "metadata": {
        "colab": {
          "base_uri": "https://localhost:8080/"
        },
        "id": "d2-ZSoXQygbQ",
        "outputId": "29f51371-b0b7-4208-f724-2d1a23e19757"
      },
      "execution_count": 1,
      "outputs": [
        {
          "output_type": "stream",
          "name": "stdout",
          "text": [
            "['domates', 'soğan', 'kıyma', 'patates', 'sarımsak']\n",
            "['domates', 'soğan', 'kıyma', 'patates', 'sarımsak', 'biber', 'şeker']\n",
            "ihtiyaçları buraya giriniz: kıyma\n",
            "['domates', 'soğan', 'sarımsak', 'biber', 'şeker', 'kıyma']\n",
            "[]\n"
          ]
        }
      ]
    }
  ],
  "metadata": {
    "colab": {
      "toc_visible": true,
      "provenance": [],
      "include_colab_link": true
    },
    "kernelspec": {
      "display_name": "Python 3",
      "name": "python3"
    }
  },
  "nbformat": 4,
  "nbformat_minor": 0
}